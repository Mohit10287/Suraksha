{
 "cells": [
  {
   "cell_type": "markdown",
   "metadata": {},
   "source": [
    "## Import Machine Learning Packages"
   ]
  },
  {
   "cell_type": "code",
   "execution_count": 1,
   "metadata": {},
   "outputs": [],
   "source": [
    "# Importing the required packages \n",
    "import numpy as np \n",
    "import pandas as pd \n",
    "from sklearn.model_selection import train_test_split\n",
    "import sklearn.metrics as metrics\n",
    "import matplotlib.pyplot as plt\n"
   ]
  },
  {
   "cell_type": "markdown",
   "metadata": {},
   "source": [
    "## Read Data"
   ]
  },
  {
   "cell_type": "code",
   "execution_count": 2,
   "metadata": {},
   "outputs": [
    {
     "name": "stdout",
     "output_type": "stream",
     "text": [
      "<class 'pandas.core.frame.DataFrame'>\n",
      "RangeIndex: 3057 entries, 0 to 3056\n",
      "Data columns (total 11 columns):\n",
      " #   Column               Non-Null Count  Dtype\n",
      "---  ------               --------------  -----\n",
      " 0   Unnamed: 0           3057 non-null   int64\n",
      " 1   Number of Vehicles   3057 non-null   int64\n",
      " 2   1st Road Class       3057 non-null   int64\n",
      " 3   Road Surface         3057 non-null   int64\n",
      " 4   Lighting Conditions  3057 non-null   int64\n",
      " 5   Weather Conditions   3057 non-null   int64\n",
      " 6   Casualty Class       3057 non-null   int64\n",
      " 7   Casualty Severity    3057 non-null   int64\n",
      " 8   Sex of Casualty      3057 non-null   int64\n",
      " 9   Age of Casualty      3057 non-null   int64\n",
      " 10  Type of Vehicle      3057 non-null   int64\n",
      "dtypes: int64(11)\n",
      "memory usage: 262.8 KB\n"
     ]
    }
   ],
   "source": [
    "accidentData=pd.read_csv(\"../Data/trainingdata.csv\")\n",
    "accidentData.info()"
   ]
  },
  {
   "cell_type": "markdown",
   "metadata": {},
   "source": [
    "## Separate Features and Target Attributes"
   ]
  },
  {
   "cell_type": "code",
   "execution_count": 3,
   "metadata": {},
   "outputs": [],
   "source": [
    "#feature and target split\n",
    "feat    = ['Number of Vehicles','1st Road Class','Road Surface','Lighting Conditions','Weather Conditions','Casualty Class','Sex of Casualty','Age of Casualty','Type of Vehicle']\n",
    "features = accidentData[feat]\n",
    "target   = accidentData['Casualty Severity']"
   ]
  },
  {
   "cell_type": "markdown",
   "metadata": {},
   "source": [
    "## Split Training Data and Testing Data"
   ]
  },
  {
   "cell_type": "code",
   "execution_count": 4,
   "metadata": {},
   "outputs": [],
   "source": [
    "#Split training data(70%) and testing data (30%)\n",
    "X_train, X_test, y_train, y_test = train_test_split(features, target, test_size=0.3, random_state=1)"
   ]
  },
  {
   "cell_type": "markdown",
   "metadata": {},
   "source": [
    "## Decision Tree Learning"
   ]
  },
  {
   "cell_type": "code",
   "execution_count": 5,
   "metadata": {},
   "outputs": [
    {
     "name": "stdout",
     "output_type": "stream",
     "text": [
      "Confusion Matrix [[753  76]\n",
      " [ 67  22]]\n",
      "Accuracy of the model is 0.8442265795206971\n",
      "precision of the model is 0.22448979591836735\n",
      "Recall of the model is 0.24719101123595505\n",
      "ROC Curve\n"
     ]
    },
    {
     "data": {
      "image/png": "[encoded data removed]",
      "text/plain": [
       "<Figure size 432x288 with 1 Axes>"
      ]
     },
     "metadata": {
      "needs_background": "light"
     },
     "output_type": "display_data"
    }
   ],
   "source": [
    "from sklearn.tree import DecisionTreeClassifier \n",
    "\n",
    "#Building decision tree model\n",
    "clf = DecisionTreeClassifier()\n",
    "clf = clf.fit(X_train,y_train)\n",
    "#Predict the response for test dataset\n",
    "y_pred = clf.predict(X_test)\n",
    "\n",
    "#Perormance evaluation of Decision tree\n",
    "print(\"Confusion Matrix\", metrics.confusion_matrix(y_test, y_pred))\n",
    "print(\"Accuracy of the model is\", metrics.accuracy_score(y_test, y_pred))\n",
    "print(\"precision of the model is\", metrics.precision_score(y_test, y_pred))\n",
    "print(\"Recall of the model is\", metrics.recall_score(y_test, y_pred))\n",
    "print(\"ROC Curve\")\n",
    "tpr, fpr, thres=metrics.roc_curve(y_test, y_pred)\n",
    "\n",
    "plt.plot(tpr, fpr)\n",
    "plt.title(\"ROC curve\")\n",
    "plt.xlabel(\"True Positive Rate\")\n",
    "plt.ylabel(\"False Positive Rate\")\n",
    "plt.show()"
   ]
  },
  {
   "cell_type": "markdown",
   "metadata": {},
   "source": [
    "# Random Forest"
   ]
  },
  {
   "cell_type": "code",
   "execution_count": 6,
   "metadata": {},
   "outputs": [
    {
     "name": "stdout",
     "output_type": "stream",
     "text": [
      "Confusion Matrix [[790  39]\n",
      " [ 72  17]]\n",
      "Accuracy of the model is 0.8790849673202614\n",
      "precision of the model is 0.30357142857142855\n",
      "Recall of the model is 0.19101123595505617\n",
      "ROC Curve\n"
     ]
    },
    {
     "data": {
      "image/png": "[encoded data removed]",
      "text/plain": [
       "<Figure size 432x288 with 1 Axes>"
      ]
     },
     "metadata": {
      "needs_background": "light"
     },
     "output_type": "display_data"
    }
   ],
   "source": [
    "from sklearn.ensemble import RandomForestClassifier\n",
    "\n",
    "#Building random forest tree model\n",
    "rf = RandomForestClassifier(n_estimators = 100)\n",
    "rf = rf.fit(X_train,y_train)\n",
    "#Predict the response for test dataset\n",
    "y_pred = rf.predict(X_test)\n",
    "\n",
    "#Perormance evaluation of Random forest\n",
    "print(\"Confusion Matrix\", metrics.confusion_matrix(y_test, y_pred))\n",
    "print(\"Accuracy of the model is\", metrics.accuracy_score(y_test, y_pred))\n",
    "print(\"precision of the model is\", metrics.precision_score(y_test, y_pred))\n",
    "print(\"Recall of the model is\", metrics.recall_score(y_test, y_pred))\n",
    "print(\"ROC Curve\")\n",
    "tpr, fpr, thres=metrics.roc_curve(y_test, y_pred)\n",
    "\n",
    "plt.plot(tpr, fpr)\n",
    "plt.title(\"ROC curve\")\n",
    "plt.xlabel(\"True Positive Rate\")\n",
    "plt.ylabel(\"False Positive Rate\")\n",
    "plt.show()"
   ]
  },
  {
   "cell_type": "markdown",
   "metadata": {},
   "source": [
    "## K- Nearest Neighbour Learning"
   ]
  },
  {
   "cell_type": "code",
   "execution_count": 7,
   "metadata": {},
   "outputs": [
    {
     "name": "stdout",
     "output_type": "stream",
     "text": [
      "K-NEAREST NEIGHBOUR LEARNING\n",
      "Confusion Matrix [[823   6]\n",
      " [ 88   1]]\n",
      "Accuracy of the model is 0.8976034858387799\n",
      "precision of the model is 0.14285714285714285\n",
      "Recall of the model is 0.011235955056179775\n",
      "ROC Curve\n"
     ]
    },
    {
     "data": {
      "image/png": "[encoded data removed]",
      "text/plain": [
       "<Figure size 432x288 with 1 Axes>"
      ]
     },
     "metadata": {
      "needs_background": "light"
     },
     "output_type": "display_data"
    }
   ],
   "source": [
    "print(\"K-NEAREST NEIGHBOUR LEARNING\")\n",
    "from sklearn.neighbors import KNeighborsClassifier \n",
    "\n",
    "knn = KNeighborsClassifier(n_neighbors=7) \n",
    "knn.fit(X_train, y_train)\n",
    "y_pred_knn=knn.predict(X_test)\n",
    "\n",
    "print(\"Confusion Matrix\", metrics.confusion_matrix(y_test, y_pred_knn))\n",
    "print(\"Accuracy of the model is\", metrics.accuracy_score(y_test, y_pred_knn))\n",
    "print(\"precision of the model is\", metrics.precision_score(y_test, y_pred_knn))\n",
    "print(\"Recall of the model is\", metrics.recall_score(y_test, y_pred_knn))\n",
    "print(\"ROC Curve\")\n",
    "tpr, fpr, thres=metrics.roc_curve(y_test, y_pred_knn)\n",
    "\n",
    "plt.plot(tpr, fpr)\n",
    "plt.title(\"ROC curve\")\n",
    "plt.xlabel(\"True Positive Rate\")\n",
    "plt.ylabel(\"False Positive Rate\")\n",
    "plt.show()"
   ]
  },
  {
   "cell_type": "markdown",
   "metadata": {},
   "source": [
    "## Gradient Boosting Classifier"
   ]
  },
  {
   "cell_type": "code",
   "execution_count": 8,
   "metadata": {},
   "outputs": [
    {
     "name": "stdout",
     "output_type": "stream",
     "text": [
      "Gradient Boosting Classifier\n",
      "Confusion Matrix [[819  10]\n",
      " [ 83   6]]\n",
      "Accuracy of the model is 0.8986928104575164\n",
      "precision of the model is 0.375\n",
      "Recall of the model is 0.06741573033707865\n",
      "ROC Curve\n"
     ]
    },
    {
     "data": {
      "image/png": "[encoded data removed]",
      "text/plain": [
       "<Figure size 432x288 with 1 Axes>"
      ]
     },
     "metadata": {
      "needs_background": "light"
     },
     "output_type": "display_data"
    }
   ],
   "source": [
    "from sklearn.ensemble import GradientBoostingClassifier\n",
    "print(\"Gradient Boosting Classifier\")\n",
    "\n",
    "gb = GradientBoostingClassifier(learning_rate=0.1)\n",
    "gb.fit(X_train, y_train)\n",
    "y_pred_gb=gb.predict(X_test)\n",
    "\n",
    "print(\"Confusion Matrix\", metrics.confusion_matrix(y_test, y_pred_gb))\n",
    "print(\"Accuracy of the model is\", metrics.accuracy_score(y_test, y_pred_gb))\n",
    "print(\"precision of the model is\", metrics.precision_score(y_test, y_pred_gb))\n",
    "print(\"Recall of the model is\", metrics.recall_score(y_test, y_pred_gb))\n",
    "print(\"ROC Curve\")\n",
    "tpr, fpr, thres=metrics.roc_curve(y_test, y_pred_gb)\n",
    "\n",
    "plt.plot(tpr, fpr)\n",
    "plt.title(\"ROC curve\")\n",
    "plt.xlabel(\"True Positive Rate\")\n",
    "plt.ylabel(\"False Positive Rate\")\n",
    "plt.show()"
   ]
  },
  {
   "cell_type": "markdown",
   "metadata": {},
   "source": [
    "## Save the Model"
   ]
  },
  {
   "cell_type": "code",
   "execution_count": 9,
   "metadata": {},
   "outputs": [],
   "source": [
    "import pickle\n",
    "\n",
    "#dump on picle\n",
    "pickle.dump(gb, open('accidentSeverityPredictor.pkl','wb'))"
   ]
  }
 ],
 "metadata": {
  "kernelspec": {
   "display_name": "Python 3",
   "language": "python",
   "name": "python3"
  },
  "language_info": {
   "codemirror_mode": {
    "name": "ipython",
    "version": 3
   },
   "file_extension": ".py",
   "mimetype": "text/x-python",
   "name": "python",
   "nbconvert_exporter": "python",
   "pygments_lexer": "ipython3",
   "version": "3.8.8"
  }
 },
 "nbformat": 4,
 "nbformat_minor": 2
}
